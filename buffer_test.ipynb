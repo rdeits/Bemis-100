{
 "metadata": {
  "name": "",
  "signature": "sha256:b9e33c22ca1af862bb613a5d39be798124f702d431ea355c74fdeede1d860309"
 },
 "nbformat": 3,
 "nbformat_minor": 0,
 "worksheets": [
  {
   "cells": [
    {
     "cell_type": "code",
     "collapsed": false,
     "input": [
      "import numpy as np\n",
      "import PIL.Image as im\n",
      "import array"
     ],
     "language": "python",
     "metadata": {},
     "outputs": [],
     "prompt_number": 3
    },
    {
     "cell_type": "code",
     "collapsed": false,
     "input": [
      "import serial"
     ],
     "language": "python",
     "metadata": {},
     "outputs": [],
     "prompt_number": 4
    },
    {
     "cell_type": "code",
     "collapsed": false,
     "input": [
      "s = serial.Serial(port='/dev/tty')"
     ],
     "language": "python",
     "metadata": {},
     "outputs": [],
     "prompt_number": 5
    },
    {
     "cell_type": "code",
     "collapsed": false,
     "input": [
      "s.write(\"\\n\")"
     ],
     "language": "python",
     "metadata": {},
     "outputs": [
      {
       "metadata": {},
       "output_type": "pyout",
       "prompt_number": 6,
       "text": [
        "1"
       ]
      }
     ],
     "prompt_number": 6
    },
    {
     "cell_type": "code",
     "collapsed": false,
     "input": [
      "a = np.array([97,98,99], dtype=np.byte)"
     ],
     "language": "python",
     "metadata": {},
     "outputs": [],
     "prompt_number": 7
    },
    {
     "cell_type": "code",
     "collapsed": false,
     "input": [
      "s.write(a)"
     ],
     "language": "python",
     "metadata": {},
     "outputs": [
      {
       "metadata": {},
       "output_type": "pyout",
       "prompt_number": 8,
       "text": [
        "3"
       ]
      }
     ],
     "prompt_number": 8
    },
    {
     "cell_type": "code",
     "collapsed": false,
     "input": [
      "image = im.open('Web/static/patterns/Rainbows/rainbow_bullseye_lessblack.gif')"
     ],
     "language": "python",
     "metadata": {},
     "outputs": [],
     "prompt_number": 9
    },
    {
     "cell_type": "code",
     "collapsed": false,
     "input": [
      "(width, height) = image.size\n",
      "print width, height"
     ],
     "language": "python",
     "metadata": {},
     "outputs": [
      {
       "output_type": "stream",
       "stream": "stdout",
       "text": [
        "166 167\n"
       ]
      }
     ],
     "prompt_number": 10
    },
    {
     "cell_type": "code",
     "collapsed": false,
     "input": [
      "image = image.convert('RGB')"
     ],
     "language": "python",
     "metadata": {},
     "outputs": [],
     "prompt_number": 11
    },
    {
     "cell_type": "code",
     "collapsed": false,
     "input": [
      "frame = image.getdata()"
     ],
     "language": "python",
     "metadata": {},
     "outputs": [],
     "prompt_number": 12
    },
    {
     "cell_type": "code",
     "collapsed": false,
     "input": [
      "a = np.array(image, dtype=np.uint8)"
     ],
     "language": "python",
     "metadata": {},
     "outputs": [],
     "prompt_number": 13
    },
    {
     "cell_type": "code",
     "collapsed": false,
     "input": [
      "a = a.reshape((height, width*3))\n",
      "print a.shape"
     ],
     "language": "python",
     "metadata": {},
     "outputs": [
      {
       "output_type": "stream",
       "stream": "stdout",
       "text": [
        "(167, 498)\n"
       ]
      }
     ],
     "prompt_number": 14
    },
    {
     "cell_type": "code",
     "collapsed": false,
     "input": [
      "s.write(a[80])"
     ],
     "language": "python",
     "metadata": {},
     "outputs": [
      {
       "metadata": {},
       "output_type": "pyout",
       "prompt_number": 15,
       "text": [
        "498"
       ]
      }
     ],
     "prompt_number": 15
    },
    {
     "cell_type": "code",
     "collapsed": false,
     "input": [
      "a[0]"
     ],
     "language": "python",
     "metadata": {},
     "outputs": [
      {
       "metadata": {},
       "output_type": "pyout",
       "prompt_number": 16,
       "text": [
        "array([  0,   1,   0,   0,   1,   0,   0,   1,   0,   0,   1,   0,   0,\n",
        "         1,   0,   0,   1,   0,   0,   1,   0,   0,   1,   0,   0,   1,\n",
        "         0,   0,   1,   0,   0,   1,   0,   0,   1,   0,   0,   1,   0,\n",
        "         0,   1,   0,   0,   1,   0,   0,   1,   0,   0,   1,   0,   0,\n",
        "         1,   0,   0,   1,   0,   0,   1,   0,   0,   1,   0,   0,   1,\n",
        "         0,   0,   1,   0,   0,   1,   0,   0,   1,   0,   0,   1,   0,\n",
        "         0,   1,   0,   0,   1,   0,   0,   1,   0,   0,   1,   0,   0,\n",
        "         1,   0,   0,   1,   0,   0,   1,   0,   0,   1,   0,   0,   1,\n",
        "         0,   0,   1,   0,   0,   1,   0,   0,   1,   0,   0,   1,   0,\n",
        "         0,   1,   0,   0,   1,   0,   0,   1,   0,   0,   1,   0,   0,\n",
        "         1,   0,   0,   1,   0,   0,   1,   0,   0,   1,   0,   0,   1,\n",
        "         0,   0,   1,   0,   0,   1,   0,   0,   1,   0,   0,   1,   0,\n",
        "         0,   1,   0,   0,   1,   0,   0,   1,   0,   0,   1,   0,   0,\n",
        "         1,   0,   0,   1,   0,   0,   1,   0,   0,   1,   0,   0,   1,\n",
        "         0,   0,   1,   0,   0,   1,   0,   0,   1,   0,   0,   1,   0,\n",
        "         0,   1,   0,   0,   1,   0,   0,   1,   0,   0,   1,   0,   0,\n",
        "         1,   0,   0,   1,   0,  59,   0,   1, 119,   0,   3, 160,   0,\n",
        "         3, 197,   0,   0, 216,   0,   1, 231,   0,   0, 243,   0,   0,\n",
        "       255,   0,   7, 255,   0,   0, 255,   0,   0, 255,   0,   0, 255,\n",
        "         0,   0, 255,   0,   0, 255,   0,   0, 255,   0,   0, 255,   0,\n",
        "         0, 255,   0,   0, 255,   0,   7, 243,   0,   0, 231,   0,   0,\n",
        "       216,   0,   1, 197,   0,   0, 160,   0,   3, 119,   0,   3,  59,\n",
        "         0,   1,   0,   1,   0,   0,   1,   0,   0,   1,   0,   0,   1,\n",
        "         0,   0,   1,   0,   0,   1,   0,   0,   1,   0,   0,   1,   0,\n",
        "         0,   1,   0,   0,   1,   0,   0,   1,   0,   0,   1,   0,   0,\n",
        "         1,   0,   0,   1,   0,   0,   1,   0,   0,   1,   0,   0,   1,\n",
        "         0,   0,   1,   0,   0,   1,   0,   0,   1,   0,   0,   1,   0,\n",
        "         0,   1,   0,   0,   1,   0,   0,   1,   0,   0,   1,   0,   0,\n",
        "         1,   0,   0,   1,   0,   0,   1,   0,   0,   1,   0,   0,   1,\n",
        "         0,   0,   1,   0,   0,   1,   0,   0,   1,   0,   0,   1,   0,\n",
        "         0,   1,   0,   0,   1,   0,   0,   1,   0,   0,   1,   0,   0,\n",
        "         1,   0,   0,   1,   0,   0,   1,   0,   0,   1,   0,   0,   1,\n",
        "         0,   0,   1,   0,   0,   1,   0,   0,   1,   0,   0,   1,   0,\n",
        "         0,   1,   0,   0,   1,   0,   0,   1,   0,   0,   1,   0,   0,\n",
        "         1,   0,   0,   1,   0,   0,   1,   0,   0,   1,   0,   0,   1,\n",
        "         0,   0,   1,   0,   0,   1,   0,   0,   1,   0,   0,   1,   0,\n",
        "         0,   1,   0,   0,   1,   0,   0,   1,   0,   0,   1,   0,   0,\n",
        "         1,   0,   0,   1,   0,   0,   1,   0,   0,   1,   0,   0,   1,\n",
        "         0,   0,   1,   0], dtype=uint8)"
       ]
      }
     ],
     "prompt_number": 16
    },
    {
     "cell_type": "code",
     "collapsed": false,
     "input": [
      "a2 = array.array('B', image)"
     ],
     "language": "python",
     "metadata": {},
     "outputs": [
      {
       "ename": "TypeError",
       "evalue": "iteration over non-sequence",
       "output_type": "pyerr",
       "traceback": [
        "\u001b[0;31m---------------------------------------------------------------------------\u001b[0m\n\u001b[0;31mTypeError\u001b[0m                                 Traceback (most recent call last)",
        "\u001b[0;32m<ipython-input-18-cd30be5a0e2f>\u001b[0m in \u001b[0;36m<module>\u001b[0;34m()\u001b[0m\n\u001b[0;32m----> 1\u001b[0;31m \u001b[0ma2\u001b[0m \u001b[0;34m=\u001b[0m \u001b[0marray\u001b[0m\u001b[0;34m.\u001b[0m\u001b[0marray\u001b[0m\u001b[0;34m(\u001b[0m\u001b[0;34m'B'\u001b[0m\u001b[0;34m,\u001b[0m \u001b[0mimage\u001b[0m\u001b[0;34m)\u001b[0m\u001b[0;34m\u001b[0m\u001b[0m\n\u001b[0m",
        "\u001b[0;31mTypeError\u001b[0m: iteration over non-sequence"
       ]
      }
     ],
     "prompt_number": 18
    },
    {
     "cell_type": "code",
     "collapsed": false,
     "input": [],
     "language": "python",
     "metadata": {},
     "outputs": []
    }
   ],
   "metadata": {}
  }
 ]
}