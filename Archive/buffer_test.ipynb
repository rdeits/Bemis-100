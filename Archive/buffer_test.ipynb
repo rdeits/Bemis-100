{
 "metadata": {
  "name": "",
  "signature": "sha256:01cedccddec43c36262b54a79d631e0ca9b03cc167c55973856bf7c313285f3c"
 },
 "nbformat": 3,
 "nbformat_minor": 0,
 "worksheets": [
  {
   "cells": [
    {
     "cell_type": "code",
     "collapsed": false,
     "input": [
      "import numpy as np\n",
      "import PIL.Image as im"
     ],
     "language": "python",
     "metadata": {},
     "outputs": [],
     "prompt_number": 16
    },
    {
     "cell_type": "code",
     "collapsed": false,
     "input": [
      "import serial"
     ],
     "language": "python",
     "metadata": {},
     "outputs": [],
     "prompt_number": 2
    },
    {
     "cell_type": "code",
     "collapsed": false,
     "input": [
      "s = serial.Serial(port='/dev/tty')"
     ],
     "language": "python",
     "metadata": {},
     "outputs": [],
     "prompt_number": 3
    },
    {
     "cell_type": "code",
     "collapsed": false,
     "input": [
      "s.write(\"\\n\")"
     ],
     "language": "python",
     "metadata": {},
     "outputs": [
      {
       "metadata": {},
       "output_type": "pyout",
       "prompt_number": 10,
       "text": [
        "1"
       ]
      }
     ],
     "prompt_number": 10
    },
    {
     "cell_type": "code",
     "collapsed": false,
     "input": [
      "a = np.array([97,98,99], dtype=np.byte)"
     ],
     "language": "python",
     "metadata": {},
     "outputs": [],
     "prompt_number": 11
    },
    {
     "cell_type": "code",
     "collapsed": false,
     "input": [
      "s.write(a)"
     ],
     "language": "python",
     "metadata": {},
     "outputs": [
      {
       "metadata": {},
       "output_type": "pyout",
       "prompt_number": 15,
       "text": [
        "3"
       ]
      }
     ],
     "prompt_number": 15
    },
    {
     "cell_type": "code",
     "collapsed": false,
     "input": [
      "image = im.open('Web/static/patterns/Rainbows/rainbow_bullseye_lessblack.gif')"
     ],
     "language": "python",
     "metadata": {},
     "outputs": [],
     "prompt_number": 17
    },
    {
     "cell_type": "code",
     "collapsed": false,
     "input": [
      "(width, height) = image.size\n",
      "print width, height"
     ],
     "language": "python",
     "metadata": {},
     "outputs": [
      {
       "output_type": "stream",
       "stream": "stdout",
       "text": [
        "166 167\n"
       ]
      }
     ],
     "prompt_number": 25
    },
    {
     "cell_type": "code",
     "collapsed": false,
     "input": [
      "image = image.convert('RGB')"
     ],
     "language": "python",
     "metadata": {},
     "outputs": [],
     "prompt_number": 26
    },
    {
     "cell_type": "code",
     "collapsed": false,
     "input": [
      "frame = image.getdata()"
     ],
     "language": "python",
     "metadata": {},
     "outputs": [],
     "prompt_number": 27
    },
    {
     "cell_type": "code",
     "collapsed": false,
     "input": [
      "a = np.array(image, dtype=np.uint8)"
     ],
     "language": "python",
     "metadata": {},
     "outputs": [],
     "prompt_number": 61
    },
    {
     "cell_type": "code",
     "collapsed": false,
     "input": [
      "a = a.reshape((height, width*3))\n",
      "print a.shape"
     ],
     "language": "python",
     "metadata": {},
     "outputs": [
      {
       "output_type": "stream",
       "stream": "stdout",
       "text": [
        "(167, 498)\n"
       ]
      }
     ],
     "prompt_number": 62
    },
    {
     "cell_type": "code",
     "collapsed": false,
     "input": [
      "s.write(a[80])"
     ],
     "language": "python",
     "metadata": {},
     "outputs": [
      {
       "metadata": {},
       "output_type": "pyout",
       "prompt_number": 63,
       "text": [
        "498"
       ]
      }
     ],
     "prompt_number": 63
    },
    {
     "cell_type": "code",
     "collapsed": false,
     "input": [
      "a[0]"
     ],
     "language": "python",
     "metadata": {},
     "outputs": [
      {
       "metadata": {},
       "output_type": "pyout",
       "prompt_number": 65,
       "text": [
        "array([  0,   1,   0,   0,   1,   0,   0,   1,   0,   0,   1,   0,   0,\n",
        "         1,   0,   0,   1,   0,   0,   1,   0,   0,   1,   0,   0,   1,\n",
        "         0,   0,   1,   0,   0,   1,   0,   0,   1,   0,   0,   1,   0,\n",
        "         0,   1,   0,   0,   1,   0,   0,   1,   0,   0,   1,   0,   0,\n",
        "         1,   0,   0,   1,   0,   0,   1,   0,   0,   1,   0,   0,   1,\n",
        "         0,   0,   1,   0,   0,   1,   0,   0,   1,   0,   0,   1,   0,\n",
        "         0,   1,   0,   0,   1,   0,   0,   1,   0,   0,   1,   0,   0,\n",
        "         1,   0,   0,   1,   0,   0,   1,   0,   0,   1,   0,   0,   1,\n",
        "         0,   0,   1,   0,   0,   1,   0,   0,   1,   0,   0,   1,   0,\n",
        "         0,   1,   0,   0,   1,   0,   0,   1,   0,   0,   1,   0,   0,\n",
        "         1,   0,   0,   1,   0,   0,   1,   0,   0,   1,   0,   0,   1,\n",
        "         0,   0,   1,   0,   0,   1,   0,   0,   1,   0,   0,   1,   0,\n",
        "         0,   1,   0,   0,   1,   0,   0,   1,   0,   0,   1,   0,   0,\n",
        "         1,   0,   0,   1,   0,   0,   1,   0,   0,   1,   0,   0,   1,\n",
        "         0,   0,   1,   0,   0,   1,   0,   0,   1,   0,   0,   1,   0,\n",
        "         0,   1,   0,   0,   1,   0,   0,   1,   0,   0,   1,   0,   0,\n",
        "         1,   0,   0,   1,   0,  59,   0,   1, 119,   0,   3, 160,   0,\n",
        "         3, 197,   0,   0, 216,   0,   1, 231,   0,   0, 243,   0,   0,\n",
        "       255,   0,   7, 255,   0,   0, 255,   0,   0, 255,   0,   0, 255,\n",
        "         0,   0, 255,   0,   0, 255,   0,   0, 255,   0,   0, 255,   0,\n",
        "         0, 255,   0,   0, 255,   0,   7, 243,   0,   0, 231,   0,   0,\n",
        "       216,   0,   1, 197,   0,   0, 160,   0,   3, 119,   0,   3,  59,\n",
        "         0,   1,   0,   1,   0,   0,   1,   0,   0,   1,   0,   0,   1,\n",
        "         0,   0,   1,   0,   0,   1,   0,   0,   1,   0,   0,   1,   0,\n",
        "         0,   1,   0,   0,   1,   0,   0,   1,   0,   0,   1,   0,   0,\n",
        "         1,   0,   0,   1,   0,   0,   1,   0,   0,   1,   0,   0,   1,\n",
        "         0,   0,   1,   0,   0,   1,   0,   0,   1,   0,   0,   1,   0,\n",
        "         0,   1,   0,   0,   1,   0,   0,   1,   0,   0,   1,   0,   0,\n",
        "         1,   0,   0,   1,   0,   0,   1,   0,   0,   1,   0,   0,   1,\n",
        "         0,   0,   1,   0,   0,   1,   0,   0,   1,   0,   0,   1,   0,\n",
        "         0,   1,   0,   0,   1,   0,   0,   1,   0,   0,   1,   0,   0,\n",
        "         1,   0,   0,   1,   0,   0,   1,   0,   0,   1,   0,   0,   1,\n",
        "         0,   0,   1,   0,   0,   1,   0,   0,   1,   0,   0,   1,   0,\n",
        "         0,   1,   0,   0,   1,   0,   0,   1,   0,   0,   1,   0,   0,\n",
        "         1,   0,   0,   1,   0,   0,   1,   0,   0,   1,   0,   0,   1,\n",
        "         0,   0,   1,   0,   0,   1,   0,   0,   1,   0,   0,   1,   0,\n",
        "         0,   1,   0,   0,   1,   0,   0,   1,   0,   0,   1,   0,   0,\n",
        "         1,   0,   0,   1,   0,   0,   1,   0,   0,   1,   0,   0,   1,\n",
        "         0,   0,   1,   0], dtype=uint8)"
       ]
      }
     ],
     "prompt_number": 65
    },
    {
     "cell_type": "code",
     "collapsed": false,
     "input": [],
     "language": "python",
     "metadata": {},
     "outputs": []
    }
   ],
   "metadata": {}
  }
 ]
}